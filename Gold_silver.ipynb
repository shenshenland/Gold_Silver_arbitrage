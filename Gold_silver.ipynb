{
 "cells": [
  {
   "cell_type": "code",
   "execution_count": 4,
   "metadata": {},
   "outputs": [],
   "source": [
    "import numpy as np \n",
    "import matplotlib as plt \n",
    "import statsmodels.api as sm\n",
    "import openpyxl as opl"
   ]
  },
  {
   "cell_type": "code",
   "execution_count": 9,
   "metadata": {},
   "outputs": [
    {
     "name": "stdout",
     "output_type": "stream",
     "text": [
      "0.7134251726962035\n"
     ]
    }
   ],
   "source": [
    "Workbook = opl.load_workbook(r\"C:\\Users\\sjc20\\Desktop\\Gold_silver.xlsx\")\n",
    "wk_1 = Workbook['XAU_CNY历史数据']\n",
    "print(wk_1.cell(2,8).value)"
   ]
  },
  {
   "cell_type": "code",
   "execution_count": 7,
   "metadata": {},
   "outputs": [],
   "source": [
    "row = 1319\n",
    "col = wk_1.max_column"
   ]
  },
  {
   "cell_type": "code",
   "execution_count": 11,
   "metadata": {},
   "outputs": [
    {
     "name": "stdout",
     "output_type": "stream",
     "text": [
      "[ 0.          0.33827729  0.26255441 ... -0.26516752 -0.08992637\n",
      " -0.00443645]\n",
      "[ 0.          0.54577283  0.30725113 ...  0.44239152 -0.751344\n",
      "  0.01957841]\n"
     ]
    }
   ],
   "source": [
    "Gold =np.array([])\n",
    "Silver = np.array([])\n",
    "for i in range(2,row):\n",
    "    Gold = np.append(Gold, wk_1.cell(i, 9).value*100)\n",
    "    Silver = np.append(Silver, wk_1.cell(i, 18).value*100)\n",
    "\n",
    "print(Gold)\n",
    "print(Silver)\n",
    "\n"
   ]
  },
  {
   "cell_type": "code",
   "execution_count": 12,
   "metadata": {},
   "outputs": [
    {
     "name": "stdout",
     "output_type": "stream",
     "text": [
      "                            OLS Regression Results                            \n",
      "==============================================================================\n",
      "Dep. Variable:                      y   R-squared:                       0.533\n",
      "Model:                            OLS   Adj. R-squared:                  0.533\n",
      "Method:                 Least Squares   F-statistic:                     1503.\n",
      "Date:                Sat, 07 Oct 2023   Prob (F-statistic):          6.99e-220\n",
      "Time:                        00:08:37   Log-Likelihood:                -2116.9\n",
      "No. Observations:                1317   AIC:                             4238.\n",
      "Df Residuals:                    1315   BIC:                             4248.\n",
      "Df Model:                           1                                         \n",
      "Covariance Type:            nonrobust                                         \n",
      "==============================================================================\n",
      "                 coef    std err          t      P>|t|      [0.025      0.975]\n",
      "------------------------------------------------------------------------------\n",
      "const         -0.0092      0.033     -0.275      0.783      -0.075       0.056\n",
      "x1             1.4752      0.038     38.767      0.000       1.401       1.550\n",
      "==============================================================================\n",
      "Omnibus:                      197.933   Durbin-Watson:                   1.996\n",
      "Prob(Omnibus):                  0.000   Jarque-Bera (JB):             2867.648\n",
      "Skew:                          -0.010   Prob(JB):                         0.00\n",
      "Kurtosis:                      10.229   Cond. No.                         1.15\n",
      "==============================================================================\n",
      "\n",
      "Notes:\n",
      "[1] Standard Errors assume that the covariance matrix of the errors is correctly specified.\n"
     ]
    }
   ],
   "source": [
    "X = Gold\n",
    "y = Silver\n",
    "X = sm.add_constant(X)\n",
    "model = sm.OLS(y, X).fit()\n",
    "print(model.summary())"
   ]
  }
 ],
 "metadata": {
  "kernelspec": {
   "display_name": "base",
   "language": "python",
   "name": "python3"
  },
  "language_info": {
   "codemirror_mode": {
    "name": "ipython",
    "version": 3
   },
   "file_extension": ".py",
   "mimetype": "text/x-python",
   "name": "python",
   "nbconvert_exporter": "python",
   "pygments_lexer": "ipython3",
   "version": "3.10.6"
  },
  "orig_nbformat": 4
 },
 "nbformat": 4,
 "nbformat_minor": 2
}
